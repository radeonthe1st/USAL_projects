{
  "nbformat": 4,
  "nbformat_minor": 0,
  "metadata": {
    "colab": {
      "name": "Alberto Botana - Recomendador de Videojuegos",
      "provenance": [],
      "collapsed_sections": [],
      "toc_visible": true,
      "machine_shape": "hm",
      "mount_file_id": "1S5OeeQWh1fyccphVoScZuHBdibFAdTA_",
      "authorship_tag": "ABX9TyO2VEhKZFX2G4N+LFOiL5Nb",
      "include_colab_link": true
    },
    "kernelspec": {
      "name": "python3",
      "display_name": "Python 3"
    }
  },
  "cells": [
    {
      "cell_type": "markdown",
      "metadata": {
        "id": "view-in-github",
        "colab_type": "text"
      },
      "source": [
        "<a href=\"https://colab.research.google.com/github/radeonthe1st/USAL_projects/blob/master/Alberto_Botana_Recomendador_de_Videojuegos.ipynb\" target=\"_parent\"><img src=\"https://colab.research.google.com/assets/colab-badge.svg\" alt=\"Open In Colab\"/></a>"
      ]
    },
    {
      "cell_type": "markdown",
      "metadata": {
        "id": "1Fc3a7l-1Tzn",
        "colab_type": "text"
      },
      "source": [
        "# Configuración del entorno."
      ]
    },
    {
      "cell_type": "markdown",
      "metadata": {
        "id": "fhhSnu6i1MYh",
        "colab_type": "text"
      },
      "source": [
        "Primeramente se importan los módulos y funciones necesarias para que la sincronización con Google Drive funcione."
      ]
    },
    {
      "cell_type": "code",
      "metadata": {
        "id": "tGy5Dy80Ie4M",
        "colab_type": "code",
        "colab": {}
      },
      "source": [
        "from google.colab import files\n",
        "from google.colab import drive\n",
        "drive.mount('/content/drive')"
      ],
      "execution_count": 0,
      "outputs": []
    },
    {
      "cell_type": "markdown",
      "metadata": {
        "id": "EYNC3gur1g0a",
        "colab_type": "text"
      },
      "source": [
        "Se instalan los módulos necesarios no presentes por defecto."
      ]
    },
    {
      "cell_type": "code",
      "metadata": {
        "id": "-lO1Ge0JrkB_",
        "colab_type": "code",
        "colab": {}
      },
      "source": [
        "!pip install tqdm\n",
        "!pip install langdetect\n",
        "!pip install vaderSentiment\n",
        "!pip install scikit-surprise"
      ],
      "execution_count": 0,
      "outputs": []
    },
    {
      "cell_type": "markdown",
      "metadata": {
        "id": "uNF6S6px1kIK",
        "colab_type": "text"
      },
      "source": [
        "Se importan todos los módulos a utilizar en el programa."
      ]
    },
    {
      "cell_type": "code",
      "metadata": {
        "id": "yhDW1sh_I-ug",
        "colab_type": "code",
        "outputId": "c89ac0bc-0789-4ca6-c0dc-e8e65c388b26",
        "colab": {
          "base_uri": "https://localhost:8080/",
          "height": 71
        }
      },
      "source": [
        "import pandas as pd\n",
        "import numpy as np\n",
        "import io\n",
        "import pickle as pkl\n",
        "import langdetect\n",
        "import nltk\n",
        "import nltk.sentiment as nltks\n",
        "import matplotlib.pyplot as plt\n",
        "import surprise\n",
        "import sklearn.metrics.pairwise\n",
        "from textblob import TextBlob\n",
        "from tqdm import tqdm_notebook as tqdm\n"
      ],
      "execution_count": 0,
      "outputs": [
        {
          "output_type": "stream",
          "text": [
            "/usr/local/lib/python3.6/dist-packages/nltk/twitter/__init__.py:20: UserWarning: The twython library has not been installed. Some functionality from the twitter package will not be available.\n",
            "  warnings.warn(\"The twython library has not been installed. \"\n"
          ],
          "name": "stderr"
        }
      ]
    },
    {
      "cell_type": "markdown",
      "metadata": {
        "id": "h7jIVmjo18dT",
        "colab_type": "text"
      },
      "source": [
        "Se carga la base de datos directamente desde Google Drive. Esto se hace para evitar tener que subir un archivo de 250MB cada vez que se quiera arrancar el entorno, ahorrando así mucho tiempo."
      ]
    },
    {
      "cell_type": "code",
      "metadata": {
        "id": "msY1u9LjqB4j",
        "colab_type": "code",
        "outputId": "46e20f95-2a1d-4238-b4ae-6684961ef0ac",
        "colab": {
          "base_uri": "https://localhost:8080/",
          "height": 204
        }
      },
      "source": [
        "mc_df = pd.read_csv('/content/drive/My Drive/metacritic_game_user_comments.csv')\n",
        "mc_df.head()"
      ],
      "execution_count": 0,
      "outputs": [
        {
          "output_type": "execute_result",
          "data": {
            "text/html": [
              "<div>\n",
              "<style scoped>\n",
              "    .dataframe tbody tr th:only-of-type {\n",
              "        vertical-align: middle;\n",
              "    }\n",
              "\n",
              "    .dataframe tbody tr th {\n",
              "        vertical-align: top;\n",
              "    }\n",
              "\n",
              "    .dataframe thead th {\n",
              "        text-align: right;\n",
              "    }\n",
              "</style>\n",
              "<table border=\"1\" class=\"dataframe\">\n",
              "  <thead>\n",
              "    <tr style=\"text-align: right;\">\n",
              "      <th></th>\n",
              "      <th>Unnamed: 0</th>\n",
              "      <th>Title</th>\n",
              "      <th>Platform</th>\n",
              "      <th>Userscore</th>\n",
              "      <th>Comment</th>\n",
              "      <th>Username</th>\n",
              "    </tr>\n",
              "  </thead>\n",
              "  <tbody>\n",
              "    <tr>\n",
              "      <th>0</th>\n",
              "      <td>0</td>\n",
              "      <td>The Legend of Zelda: Ocarina of Time</td>\n",
              "      <td>Nintendo64</td>\n",
              "      <td>10</td>\n",
              "      <td>Everything in OoT is so near at perfection, it...</td>\n",
              "      <td>SirCaestus</td>\n",
              "    </tr>\n",
              "    <tr>\n",
              "      <th>1</th>\n",
              "      <td>1</td>\n",
              "      <td>The Legend of Zelda: Ocarina of Time</td>\n",
              "      <td>Nintendo64</td>\n",
              "      <td>10</td>\n",
              "      <td>I won't bore you with what everyone is already...</td>\n",
              "      <td>Kaistlin</td>\n",
              "    </tr>\n",
              "    <tr>\n",
              "      <th>2</th>\n",
              "      <td>2</td>\n",
              "      <td>The Legend of Zelda: Ocarina of Time</td>\n",
              "      <td>Nintendo64</td>\n",
              "      <td>10</td>\n",
              "      <td>Anyone who gives the masterpiece below a 7 or ...</td>\n",
              "      <td>Jacody</td>\n",
              "    </tr>\n",
              "    <tr>\n",
              "      <th>3</th>\n",
              "      <td>3</td>\n",
              "      <td>The Legend of Zelda: Ocarina of Time</td>\n",
              "      <td>Nintendo64</td>\n",
              "      <td>10</td>\n",
              "      <td>I'm one of those people who think that this is...</td>\n",
              "      <td>doodlerman</td>\n",
              "    </tr>\n",
              "    <tr>\n",
              "      <th>4</th>\n",
              "      <td>4</td>\n",
              "      <td>The Legend of Zelda: Ocarina of Time</td>\n",
              "      <td>Nintendo64</td>\n",
              "      <td>10</td>\n",
              "      <td>This game is the highest rated game on Metacr...</td>\n",
              "      <td>StevenA</td>\n",
              "    </tr>\n",
              "  </tbody>\n",
              "</table>\n",
              "</div>"
            ],
            "text/plain": [
              "   Unnamed: 0  ...    Username\n",
              "0           0  ...  SirCaestus\n",
              "1           1  ...    Kaistlin\n",
              "2           2  ...      Jacody\n",
              "3           3  ...  doodlerman\n",
              "4           4  ...     StevenA\n",
              "\n",
              "[5 rows x 6 columns]"
            ]
          },
          "metadata": {
            "tags": []
          },
          "execution_count": 4
        }
      ]
    },
    {
      "cell_type": "markdown",
      "metadata": {
        "id": "0WrTlq1450sV",
        "colab_type": "text"
      },
      "source": [
        "# Preprocesado de los datos"
      ]
    },
    {
      "cell_type": "markdown",
      "metadata": {
        "id": "QJyQJik158aC",
        "colab_type": "text"
      },
      "source": [
        "Se genera una nueva base de datos conteniendo sólo las entradas cuyas reseñas no estén vacías. A continuación, sobre esa base de datos se retiran las entradas que no estén en inglés. Tras ello, se efectúa un dropNA para eliminar de la base de datos las entradas con valores no válidos."
      ]
    },
    {
      "cell_type": "code",
      "metadata": {
        "id": "v_fB8TVDV9mC",
        "colab_type": "code",
        "colab": {}
      },
      "source": [
        "mc_no_empty_comments=mc_df[mc_df['Comment']!=' ']"
      ],
      "execution_count": 0,
      "outputs": []
    },
    {
      "cell_type": "code",
      "metadata": {
        "id": "SbHBmk5UqnC1",
        "colab_type": "code",
        "outputId": "f949a3a8-41f6-4068-9859-dd022570f28b",
        "colab": {
          "base_uri": "https://localhost:8080/",
          "height": 34
        }
      },
      "source": [
        "# Se quitan los comentarios que no estén en inglés\n",
        "\n",
        "skip=0\n",
        "\n",
        "try:\n",
        "  mc_no_empty_comments = pd.read_pickle('/content/drive/My Drive/mc_english_skip.pkl')\n",
        "  skip=1\n",
        "  print('Archivo auxiliar detectado, saltando los cálculos.')\n",
        "except:\n",
        "  print('Archivo auxiliar no detectado, procediendo al preprocesado.')\n",
        "\n",
        "if skip==0:\n",
        "  idioma_comentario = []\n",
        "  length=len(mc_no_empty_comments)\n",
        "  for i in tqdm(range(length),desc='Detectando idioma...'):\n",
        "    try:\n",
        "      idioma = langdetect.detect(mc_no_empty_comments['Comment'][i])\n",
        "      idioma_comentario.append(idioma)\n",
        "    except:\n",
        "      idioma = 'desc'\n",
        "      idioma_comentario.append(idioma)\n",
        "\n",
        "  #Comprobamos que hay tantos como entradas\n",
        "\n",
        "  print('Entradas en base de datos: ', len(mc_no_empty_comments))\n",
        "  print('Entradas detectadas con idioma: ', len(idioma_comentario))\n",
        "\n",
        "  mc_no_empty_comments['Language']=idioma_comentario\n",
        "\n",
        "  mc_no_empty_comments.to_pickle('/content/drive/My Drive/mc_english_skip.pkl')\n",
        "  mc_no_empty_comments.head()"
      ],
      "execution_count": 0,
      "outputs": [
        {
          "output_type": "stream",
          "text": [
            "Saved ya a lotta time!\n"
          ],
          "name": "stdout"
        }
      ]
    },
    {
      "cell_type": "code",
      "metadata": {
        "id": "2y7l_jqmurHm",
        "colab_type": "code",
        "outputId": "2869e076-8d93-4eca-ea73-9c76a61ba3f6",
        "colab": {
          "base_uri": "https://localhost:8080/",
          "height": 156
        }
      },
      "source": [
        "mc_english = mc_no_empty_comments[mc_no_empty_comments['Language']=='en']\n",
        "mc_other_lang = mc_no_empty_comments[mc_no_empty_comments['Language'] !='en']\n",
        "mc_english_dirty = mc_english.copy()\n",
        "mc_english.dropna(inplace=True)\n",
        "mc_english.to_csv('mc_eng_clean')\n"
      ],
      "execution_count": 0,
      "outputs": [
        {
          "output_type": "stream",
          "text": [
            "/usr/local/lib/python3.6/dist-packages/ipykernel_launcher.py:4: SettingWithCopyWarning: \n",
            "A value is trying to be set on a copy of a slice from a DataFrame\n",
            "\n",
            "See the caveats in the documentation: https://pandas.pydata.org/pandas-docs/stable/user_guide/indexing.html#returning-a-view-versus-a-copy\n",
            "  after removing the cwd from sys.path.\n"
          ],
          "name": "stderr"
        },
        {
          "output_type": "stream",
          "text": [
            "Without dropNA:  271413\n",
            "With dropNA:  271410\n"
          ],
          "name": "stdout"
        }
      ]
    },
    {
      "cell_type": "markdown",
      "metadata": {
        "id": "bk_Oi0c28XEk",
        "colab_type": "text"
      },
      "source": [
        "Como un extra, se forma una base de datos extra sólo con las reseñas en español, con el fin de estudiar el porcentaje de su presencia."
      ]
    },
    {
      "cell_type": "code",
      "metadata": {
        "id": "WhgW6krRcbUt",
        "colab_type": "code",
        "outputId": "12b9b1d3-a7be-426d-c224-f9b4325424b4",
        "colab": {
          "base_uri": "https://localhost:8080/",
          "height": 68
        }
      },
      "source": [
        "mc_esp = mc_other_lang[mc_other_lang['Language']=='es']\n",
        "\n",
        "print('Inglés: ', len(mc_english))\n",
        "print('Extranjero: ', len(mc_other_lang))\n",
        "print('En español: ', len(mc_esp))\n",
        "print('Total: ', len(mc_no_empty_comments))\n",
        "print('Porcentaje extranjeros: ', len(mc_other_lang)/len(mc_no_empty_comments)*100)\n",
        "print('Porcentaje español: ',len(mc_esp)/len(mc_no_empty_comments)*100)"
      ],
      "execution_count": 0,
      "outputs": [
        {
          "output_type": "stream",
          "text": [
            "283983\n",
            "12570\n",
            "4714\n"
          ],
          "name": "stdout"
        }
      ]
    },
    {
      "cell_type": "markdown",
      "metadata": {
        "id": "bh9yrtYH-iFc",
        "colab_type": "text"
      },
      "source": [
        "Se normalizan las puntuaciones de la base de datos para poder evaluar los analizadores posteriormente."
      ]
    },
    {
      "cell_type": "code",
      "metadata": {
        "id": "F9WsHGoualqh",
        "colab_type": "code",
        "colab": {}
      },
      "source": [
        "mc_english.dropna(inplace=True)\n",
        "norm_scores=[]\n",
        "\n",
        "for score in mc_english['Userscore']:\n",
        "  if score <= 3:\n",
        "    norm_scores.append(-1)\n",
        "  elif score >=7:\n",
        "    norm_scores.append(1)\n",
        "  else:\n",
        "    norm_scores.append(0)\n",
        "\n",
        "mc_english['Normalized_Userscore'] = norm_scores"
      ],
      "execution_count": 0,
      "outputs": []
    },
    {
      "cell_type": "markdown",
      "metadata": {
        "id": "-msDuYcCAPD4",
        "colab_type": "text"
      },
      "source": [
        "# Análisis de sentimiento"
      ]
    },
    {
      "cell_type": "code",
      "metadata": {
        "id": "evCb-BeIfIk9",
        "colab_type": "code",
        "outputId": "97002755-cc46-4a7c-be2b-6b8f4b328357",
        "colab": {
          "base_uri": "https://localhost:8080/",
          "height": 34
        }
      },
      "source": [
        "skip=0\n",
        "\n",
        "try:\n",
        "  mc_english = pd.read_pickle('/content/drive/My Drive/mc_english_skip2.pkl')\n",
        "  skip=1\n",
        "  print('Base de datos de sentimientos analizados encontrada.')\n",
        "except:\n",
        "  print('Datos auxiliares no encontrados: Calculando...')\n",
        "\n",
        "\n",
        "if skip==0:\n",
        "  mc_english.dropna(inplace=True)\n",
        "  nltk.download('vader_lexicon')\n",
        "  v_scores=[]\n",
        "  tb_scores=[]\n",
        "  SIA=nltks.vader.SentimentIntensityAnalyzer()\n",
        "  for i in tqdm(mc_english['Comment'],desc='Analizando sentimientos...'):\n",
        "    v_score=SIA.polarity_scores(i)['compound']\n",
        "    v_scores.append(v_score)\n",
        "    tb_comment = TextBlob(i)\n",
        "    tb_scores.append(tb_comment.sentiment.polarity)\n",
        "\n",
        "  vader_scores_df=pd.DataFrame(v_scores)\n",
        "  textblob_scores_df=pd.DataFrame(tb_scores)\n",
        "\n",
        "  with open('/content/drive/My Drive/v_scores.pkl','wb') as titlefile:\n",
        "    pkl.dump(v_scores, titlefile)\n",
        "\n",
        "  with open('/content/drive/My Drive/tb_scores.pkl','wb') as titlefile:\n",
        "    pkl.dump(tb_scores, titlefile)\n",
        "\n",
        "  mc_english['Vader Score']=vader_scores_df\n",
        "  mc_english['TB Score']=textblob_scores_df\n",
        "\n",
        "  mc_english.dropna(inplace=True)\n",
        "\n",
        "  mc_english.to_pickle('/content/drive/My Drive/mc_english_skip2.pkl')\n",
        "else:\n",
        "  with open('/content/drive/My Drive/v_scores.pkl', 'rb') as file:\n",
        "      v_scores = pkl.load(file)\n",
        "  vader_scores_df=pd.DataFrame(v_scores)\n",
        "\n",
        "  with open('/content/drive/My Drive/tb_scores.pkl', 'rb') as file:\n",
        "      tb_scores = pkl.load(file)\n",
        "  textblob_scores_df=pd.DataFrame(tb_scores)\n"
      ],
      "execution_count": 0,
      "outputs": [
        {
          "output_type": "stream",
          "text": [
            "Saved ya a lotta time!\n"
          ],
          "name": "stdout"
        }
      ]
    },
    {
      "cell_type": "code",
      "metadata": {
        "id": "7Ey_D5VMIT0M",
        "colab_type": "code",
        "colab": {}
      },
      "source": [
        "mc_english_backup = mc_english.copy()"
      ],
      "execution_count": 0,
      "outputs": []
    },
    {
      "cell_type": "code",
      "metadata": {
        "id": "dkkjCTk9FSqw",
        "colab_type": "code",
        "outputId": "bebc7ebe-86a8-4165-a32e-50fc24ad3fae",
        "colab": {
          "base_uri": "https://localhost:8080/",
          "height": 102
        }
      },
      "source": [
        "print('Vader_DF: ',len(vader_scores_df))\n",
        "print('Vader en mc_english: ',len(mc_english['Vader Score']))\n",
        "print('TB_DF: ',len(textblob_scores_df))\n",
        "print('TB en mc_english: ', len(mc_english['TB Score']))\n",
        "print(len(mc_english['Normalized_Userscore']))"
      ],
      "execution_count": 0,
      "outputs": [
        {
          "output_type": "stream",
          "text": [
            "Vader_DF:  259311\n",
            "Vader en mc_english:  247695\n",
            "TB_DF:  259311\n",
            "TB en mc_english:  247695\n",
            "247695\n"
          ],
          "name": "stdout"
        }
      ]
    },
    {
      "cell_type": "markdown",
      "metadata": {
        "id": "EzvNmD78rDi7",
        "colab_type": "text"
      },
      "source": [
        "# Estudio de rendimiento de los analizadores"
      ]
    },
    {
      "cell_type": "code",
      "metadata": {
        "id": "sJoun6uYrhq9",
        "colab_type": "code",
        "outputId": "21c42dff-b0ce-45a0-8a4e-62634ae29d64",
        "colab": {
          "base_uri": "https://localhost:8080/",
          "height": 71
        }
      },
      "source": [
        "import seaborn as sns\n",
        "import sklearn.metrics\n",
        "\n",
        "# Función auxiliar para imprimir matrices de confusión (Obtenido de https://gist.github.com/shaypal5/94c53d765083101efc0240d776a23823)\n",
        "\n",
        "def print_confusion_matrix(confusion_matrix, class_names, figsize = (10,7), fontsize=18,colormap=\"inferno\"):\n",
        "    df_cm = pd.DataFrame(\n",
        "        confusion_matrix, index=class_names, columns=class_names, \n",
        "    )\n",
        "    fig = plt.figure(figsize=figsize)\n",
        "    try:\n",
        "        heatmap = sns.heatmap(df_cm, annot=True, fmt=\"d\",cmap=colormap)\n",
        "    except ValueError:\n",
        "        raise ValueError(\"Confusion matrix values must be integers.\")\n",
        "    heatmap.yaxis.set_ticklabels(heatmap.yaxis.get_ticklabels(), rotation=0, ha='right', fontsize=fontsize)\n",
        "    heatmap.xaxis.set_ticklabels(heatmap.xaxis.get_ticklabels(), rotation=45, ha='right', fontsize=fontsize)\n",
        "    plt.ylabel('True label')\n",
        "    plt.xlabel('Predicted label')\n",
        "    return fig"
      ],
      "execution_count": 0,
      "outputs": [
        {
          "output_type": "stream",
          "text": [
            "/usr/local/lib/python3.6/dist-packages/statsmodels/tools/_testing.py:19: FutureWarning: pandas.util.testing is deprecated. Use the functions in the public API at pandas.testing instead.\n",
            "  import pandas.util.testing as tm\n"
          ],
          "name": "stderr"
        }
      ]
    },
    {
      "cell_type": "markdown",
      "metadata": {
        "id": "kEMTkaneBPNR",
        "colab_type": "text"
      },
      "source": [
        "Se normalizan las puntiaciones obtenidas de los analizadores de sentimientos."
      ]
    },
    {
      "cell_type": "code",
      "metadata": {
        "id": "kitalqqDpBNt",
        "colab_type": "code",
        "outputId": "0dfe3c9e-3cd6-4391-c2d6-a68d2a238fa6",
        "colab": {
          "base_uri": "https://localhost:8080/",
          "height": 68
        }
      },
      "source": [
        "print('Database: ', len(mc_english))\n",
        "print('VScores: ', len(v_scores))\n",
        "print('TBScores: ', len(tb_scores))\n",
        "\n",
        "#AUX: vader normalization\n",
        "norm_vader=[]\n",
        "\n",
        "for score in mc_english['Vader Score']:\n",
        "  if score <= -0.1:\n",
        "    norm_vader.append(-1)\n",
        "  elif score >= 0.1:\n",
        "    norm_vader.append(1)\n",
        "  else:\n",
        "    norm_vader.append(0)\n",
        "\n",
        "#AUX: TextBlob normalization\n",
        "norm_tb=[]\n",
        "\n",
        "for score in mc_english['TB Score']:\n",
        "  if score <= -0.1:\n",
        "    norm_tb.append(-1)\n",
        "  elif score >= 0.1:\n",
        "    norm_tb.append(1)\n",
        "  else:\n",
        "    norm_tb.append(0)\n",
        "\n",
        "norm_scores2 = np.asarray(norm_scores)\n",
        "v_scores2 = np.asarray(norm_vader)\n",
        "tb_scores2 = np.asarray(norm_tb)\n",
        "vader_conf_mat = sklearn.metrics.confusion_matrix(y_true = mc_english['Normalized_Userscore'], y_pred = norm_vader)\n",
        "textblob_conf_mat = sklearn.metrics.confusion_matrix(y_true = mc_english['Normalized_Userscore'], y_pred= norm_tb)"
      ],
      "execution_count": 0,
      "outputs": [
        {
          "output_type": "stream",
          "text": [
            "Database:  247695\n",
            "VScores:  259311\n",
            "TBScores:  259311\n"
          ],
          "name": "stdout"
        }
      ]
    },
    {
      "cell_type": "markdown",
      "metadata": {
        "id": "w1LnCa2sBYJ_",
        "colab_type": "text"
      },
      "source": [
        "Cálculo de las métricas de rendimiento de los analizadores."
      ]
    },
    {
      "cell_type": "code",
      "metadata": {
        "id": "JFi_cPSliB9c",
        "colab_type": "code",
        "outputId": "137e68c4-fcc4-4cc6-ab78-7079d66dc637",
        "colab": {
          "base_uri": "https://localhost:8080/",
          "height": 85
        }
      },
      "source": [
        "vader_tp=vader_conf_mat[2,2]\n",
        "vader_tn=vader_conf_mat[0,0]+vader_conf_mat[1,0]+vader_conf_mat[0,1]+vader_conf_mat[1,1]\n",
        "vader_fp=vader_conf_mat[0,2]+vader_conf_mat[1,2]\n",
        "vader_fn=vader_conf_mat[2,0]+vader_conf_mat[2,1]\n",
        "\n",
        "vader_recall = vader_tp/(vader_tp+vader_fn)\n",
        "vader_precision= vader_tp/(vader_tp+vader_fp)\n",
        "vader_accuracy = (vader_tp+vader_tn)/(vader_tp+vader_tn+vader_fp+vader_fn)\n",
        "vader_f1 = 2*vader_precision*vader_recall/(vader_precision+vader_recall)\n",
        "\n",
        "print('Vader Recall: ', vader_recall)\n",
        "print('Vader Precision: ', vader_precision)\n",
        "print('Vader Accuracy: ', vader_accuracy)\n",
        "print('Vader F1: ', vader_f1)"
      ],
      "execution_count": 0,
      "outputs": [
        {
          "output_type": "stream",
          "text": [
            "Vader Recall:  0.7824346269488646\n",
            "Vader Precision:  0.7551675977653631\n",
            "Vader Accuracy:  0.6450271503260058\n",
            "Vader F1:  0.7685593427796041\n"
          ],
          "name": "stdout"
        }
      ]
    },
    {
      "cell_type": "code",
      "metadata": {
        "id": "z82Lij85jw76",
        "colab_type": "code",
        "outputId": "b578175f-6b48-4fa1-b6e3-253a436a2067",
        "colab": {
          "base_uri": "https://localhost:8080/",
          "height": 85
        }
      },
      "source": [
        "tb_tp=textblob_conf_mat[2,2]\n",
        "tb_tn=textblob_conf_mat[0,0]+textblob_conf_mat[1,0]+textblob_conf_mat[0,1]+textblob_conf_mat[1,1]\n",
        "tb_fp=textblob_conf_mat[0,2]+textblob_conf_mat[1,2]\n",
        "tb_fn=textblob_conf_mat[2,0]+textblob_conf_mat[2,1]\n",
        "\n",
        "tb_recall = tb_tp/(tb_tp+tb_fn)\n",
        "tb_precision= tb_tp/(tb_tp+tb_fp)\n",
        "tb_accuracy = (tb_tp+tb_tn)/(tb_tp+tb_tn+tb_fp+tb_fn)\n",
        "tb_f1 = 2*tb_precision*tb_recall/(tb_precision+tb_recall)\n",
        "\n",
        "print('TextBlob Recall: ', tb_recall)\n",
        "print('TextBlob Precision: ', tb_precision)\n",
        "print('TextBlob Accuracy: ', tb_accuracy)\n",
        "print('TextBlob F1: ', tb_f1)"
      ],
      "execution_count": 0,
      "outputs": [
        {
          "output_type": "stream",
          "text": [
            "TextBlob Recall:  0.5008923642561219\n",
            "TextBlob Precision:  0.75458200784795\n",
            "TextBlob Accuracy:  0.5013181533741092\n",
            "TextBlob F1:  0.6021060633880626\n"
          ],
          "name": "stdout"
        }
      ]
    },
    {
      "cell_type": "code",
      "metadata": {
        "id": "pcOk9PMnqXQa",
        "colab_type": "code",
        "outputId": "b3d4ee78-5bd4-430e-e7c9-5d5a451ffc01",
        "colab": {
          "base_uri": "https://localhost:8080/",
          "height": 502
        }
      },
      "source": [
        "vader_cm = print_confusion_matrix(vader_conf_mat, class_names=['Negativo','Neutro','Positivo'])"
      ],
      "execution_count": 0,
      "outputs": [
        {
          "output_type": "display_data",
          "data": {
            "image/png": "[encoded data removed]",
            "text/plain": [
              "<Figure size 720x504 with 2 Axes>"
            ]
          },
          "metadata": {
            "tags": [],
            "needs_background": "light"
          }
        }
      ]
    },
    {
      "cell_type": "code",
      "metadata": {
        "id": "3cEgAF8cqfZB",
        "colab_type": "code",
        "outputId": "4bd8db9e-ef05-4219-82c8-4d5edac0eb05",
        "colab": {
          "base_uri": "https://localhost:8080/",
          "height": 502
        }
      },
      "source": [
        "textblob_cm = print_confusion_matrix(textblob_conf_mat, class_names=['Negativo','Neutro','Positivo'],colormap='viridis')"
      ],
      "execution_count": 0,
      "outputs": [
        {
          "output_type": "display_data",
          "data": {
            "image/png": "[encoded data removed]",
            "text/plain": [
              "<Figure size 720x504 with 2 Axes>"
            ]
          },
          "metadata": {
            "tags": [],
            "needs_background": "light"
          }
        }
      ]
    },
    {
      "cell_type": "markdown",
      "metadata": {
        "id": "Al_r1L73q4hl",
        "colab_type": "text"
      },
      "source": [
        "# Construcción del recomendador de videojuegos."
      ]
    },
    {
      "cell_type": "code",
      "metadata": {
        "id": "rQ8ERqYzgSmo",
        "colab_type": "code",
        "colab": {}
      },
      "source": [
        "mc_english = mc_english_backup.copy()\n",
        "mc_english.columns\n",
        "mc_english.drop(columns=['Unnamed: 0'],inplace=True)"
      ],
      "execution_count": 0,
      "outputs": []
    },
    {
      "cell_type": "markdown",
      "metadata": {
        "id": "7mTb-faDC0i0",
        "colab_type": "text"
      },
      "source": [
        "Se crean matrices auxiliares para calcular las matrices de siilitudes."
      ]
    },
    {
      "cell_type": "code",
      "metadata": {
        "id": "wQJko8u3tEBb",
        "colab_type": "code",
        "colab": {}
      },
      "source": [
        "mc_pivot_avg = pd.pivot_table(mc_english, values = ['Userscore'], index = ['Title', 'Platform', 'Username'], aggfunc = np.mean).unstack()\n",
        "\n",
        "aux_avg = mc_pivot_avg.mean(axis=0)\n",
        "\n",
        "mc_pivot_minus_avg = mc_pivot_avg - aux_avg\n",
        "mc_pivot_minus_avg.fillna(0,inplace=True)\n",
        "\n",
        "#Ahora con Vader\n",
        "\n",
        "vader_pivot_avg = pd.pivot_table(mc_english, values=['Vader Score'], index = ['Title', 'Platform', 'Username'], aggfunc = np.mean).unstack()\n",
        "\n",
        "vader_aux_avg = vader_pivot_avg.mean(axis=0)\n",
        "\n",
        "vader_pivot_minus_avg = vader_pivot_avg - vader_aux_avg\n",
        "vader_pivot_minus_avg.fillna(0,inplace=True)\n",
        "\n",
        "#Y ahora con TextBlob\n",
        "\n",
        "tb_pivot_avg = pd.pivot_table(mc_english, values=['TB Score'], index = ['Title', 'Platform', 'Username'], aggfunc = np.mean).unstack()\n",
        "\n",
        "tb_aux_avg = tb_pivot_avg.mean(axis=0)\n",
        "\n",
        "tb_pivot_minus_avg = tb_pivot_avg - tb_aux_avg\n",
        "tb_pivot_minus_avg.fillna(0,inplace=True)"
      ],
      "execution_count": 0,
      "outputs": []
    },
    {
      "cell_type": "markdown",
      "metadata": {
        "id": "NqUqrxaAC74c",
        "colab_type": "text"
      },
      "source": [
        "Se computan las tres matrices de distancias, intentando cargarlas desde Drive si están disponibles, ya que es un proceso que requiere mucha RAM."
      ]
    },
    {
      "cell_type": "code",
      "metadata": {
        "id": "w0g4sGOYvFcz",
        "colab_type": "code",
        "outputId": "e3f05df9-0a34-4582-a992-4bfbf1c03cb8",
        "colab": {
          "base_uri": "https://localhost:8080/",
          "height": 34
        }
      },
      "source": [
        "skip=0\n",
        "try:\n",
        "  with open('/content/drive/My Drive/cos_dist.pkl', 'rb') as file:\n",
        "    cos_dists = pkl.load(file)\n",
        "  print('Matriz de distancias 1 encontrada.')\n",
        "  skip=1\n",
        "except:\n",
        "  pass\n",
        "\n",
        "if skip==0:\n",
        "  cos_dists= sklearn.metrics.pairwise.cosine_distances(mc_pivot_minus_avg)\n",
        "  with open('/content/drive/My Drive/cos_dist.pkl','wb') as titlefile:\n",
        "    pkl.dump(cos_dists, titlefile)"
      ],
      "execution_count": 0,
      "outputs": [
        {
          "output_type": "stream",
          "text": [
            "Te salvé computar matriz 1.\n"
          ],
          "name": "stdout"
        }
      ]
    },
    {
      "cell_type": "code",
      "metadata": {
        "id": "BhDV4g62ht8m",
        "colab_type": "code",
        "outputId": "275b9d8d-29fd-4855-d442-2f7b7f2505d4",
        "colab": {
          "base_uri": "https://localhost:8080/",
          "height": 34
        }
      },
      "source": [
        "skip=0\n",
        "try:\n",
        "  with open('/content/drive/My Drive/vad_cos_dist.pkl', 'rb') as file:\n",
        "    vad_cos_dists = pkl.load(file)\n",
        "  print('Matriz de distancias 2 encontrada.')\n",
        "  skip=1\n",
        "except:\n",
        "  pass\n",
        "\n",
        "if skip==0:\n",
        "  vad_cos_dists=sklearn.metrics.pairwise.cosine_distances(vader_pivot_minus_avg)\n",
        "  with open('/content/drive/My Drive/vad_cos_dist.pkl','wb') as titlefile:\n",
        "    pkl.dump(vad_cos_dists, titlefile)"
      ],
      "execution_count": 0,
      "outputs": [
        {
          "output_type": "stream",
          "text": [
            "Te salvé computar matriz 2.\n"
          ],
          "name": "stdout"
        }
      ]
    },
    {
      "cell_type": "code",
      "metadata": {
        "id": "d2YMTfazhw5Y",
        "colab_type": "code",
        "outputId": "01b28983-11a6-4cdc-a631-482aba3c32b1",
        "colab": {
          "base_uri": "https://localhost:8080/",
          "height": 34
        }
      },
      "source": [
        "skip=0\n",
        "try:\n",
        "  with open('/content/drive/My Drive/tb_cos_dist.pkl', 'rb') as file:\n",
        "    tb_cos_dists = pkl.load(file)\n",
        "  print('Matriz de distancias 3 encontrada.')\n",
        "  skip=1\n",
        "except:\n",
        "  pass\n",
        "\n",
        "if skip==0:\n",
        "  tb_cos_dists=sklearn.metrics.pairwise.cosine_distances(tb_pivot_minus_avg)\n",
        "  with open('/content/drive/My Drive/tb_cos_dist.pkl','wb') as titlefile:\n",
        "    pkl.dump(tb_cos_dists, titlefile)"
      ],
      "execution_count": 0,
      "outputs": [
        {
          "output_type": "stream",
          "text": [
            "Te salvé computar matriz 3.\n"
          ],
          "name": "stdout"
        }
      ]
    },
    {
      "cell_type": "code",
      "metadata": {
        "id": "1YRB90pFeXXp",
        "colab_type": "code",
        "colab": {}
      },
      "source": [
        "cos_dists_df = pd.DataFrame(cos_dists,columns=mc_pivot_minus_avg.index)\n",
        "cos_dists_df.index = cos_dists_df.columns\n",
        "\n",
        "vad_cos_dists_df = pd.DataFrame(vad_cos_dists,columns=vader_pivot_minus_avg.index)\n",
        "vad_cos_dists_df.index = vad_cos_dists_df.columns\n",
        "\n",
        "tb_cos_dists_df = pd.DataFrame(tb_cos_dists,columns=tb_pivot_minus_avg.index)\n",
        "tb_cos_dists_df.index = tb_cos_dists_df.columns"
      ],
      "execution_count": 0,
      "outputs": []
    },
    {
      "cell_type": "markdown",
      "metadata": {
        "id": "nNx5RtXSvGjE",
        "colab_type": "text"
      },
      "source": [
        "# Hacer funcionar recomendador"
      ]
    },
    {
      "cell_type": "markdown",
      "metadata": {
        "id": "0EDJRcmxDSGz",
        "colab_type": "text"
      },
      "source": [
        "Se crean las funciones para conseguir los títulos recomendados en cada analizador."
      ]
    },
    {
      "cell_type": "code",
      "metadata": {
        "id": "9XF0_N3mfgsI",
        "colab_type": "code",
        "colab": {}
      },
      "source": [
        "def get_similar_games_actual(games_list, n=100):\n",
        "    \n",
        "    games = [game for game in games_list if game in cos_dists_df.columns]\n",
        "    games_summed = cos_dists_df[games_list].apply(lambda row: np.sum(row), axis=1)\n",
        "    games_summed = games_summed.sort_values(ascending=False)\n",
        "    \n",
        "    ranked_games = games_summed.index[games_summed.isin(games_list)==False]\n",
        "    ranked_games = ranked_games.tolist()\n",
        "    \n",
        "    for g in games_list:\n",
        "        ranked_games.remove(g)\n",
        "    \n",
        "    if n is None:\n",
        "        return ranked_games\n",
        "    else:\n",
        "        return ranked_games[:n]"
      ],
      "execution_count": 0,
      "outputs": []
    },
    {
      "cell_type": "code",
      "metadata": {
        "id": "_87Ec4XYxTZm",
        "colab_type": "code",
        "colab": {}
      },
      "source": [
        "def get_similar_games_vader(games_list, n=100):\n",
        "    \n",
        "    games = [game for game in games_list if game in vad_cos_dists_df.columns]\n",
        "    games_summed = vad_cos_dists_df[games_list].apply(lambda row: np.sum(row), axis=1)\n",
        "    games_summed = games_summed.sort_values(ascending=False)\n",
        "    \n",
        "    ranked_games = games_summed.index[games_summed.isin(games_list)==False]\n",
        "    ranked_games = ranked_games.tolist()\n",
        "    \n",
        "    for g in games_list:\n",
        "        ranked_games.remove(g)\n",
        "    \n",
        "    if n is None:\n",
        "        return ranked_games\n",
        "    else:\n",
        "        return ranked_games[:n]"
      ],
      "execution_count": 0,
      "outputs": []
    },
    {
      "cell_type": "code",
      "metadata": {
        "id": "dcQaPwd6y2_c",
        "colab_type": "code",
        "colab": {}
      },
      "source": [
        "def get_similar_games_tb(games_list, n=100):\n",
        "    \n",
        "    games = [game for game in games_list if game in tb_cos_dists_df.columns]\n",
        "    games_summed = tb_cos_dists_df[games_list].apply(lambda row: np.sum(row), axis=1)\n",
        "    games_summed = games_summed.sort_values(ascending=False)\n",
        "    \n",
        "    ranked_games = games_summed.index[games_summed.isin(games_list)==False]\n",
        "    ranked_games = ranked_games.tolist()\n",
        "    \n",
        "    for g in games_list:\n",
        "        ranked_games.remove(g)\n",
        "    \n",
        "    if n is None:\n",
        "        return ranked_games\n",
        "    else:\n",
        "        return ranked_games[:n]"
      ],
      "execution_count": 0,
      "outputs": []
    },
    {
      "cell_type": "markdown",
      "metadata": {
        "id": "kwWPIlQADae7",
        "colab_type": "text"
      },
      "source": [
        "Finalmente, se da una lista con los títulos de preferencia del usuario y se llama a las tres funciones definidas previamente, proporcionando así los títulos recomendados."
      ]
    },
    {
      "cell_type": "code",
      "metadata": {
        "id": "FmkpIiG7vRjf",
        "colab_type": "code",
        "outputId": "10090e9e-9f84-468a-9ef0-00f010c4e24b",
        "colab": {
          "base_uri": "https://localhost:8080/",
          "height": 323
        }
      },
      "source": [
        "#games_i_like = [(\"Baldur's Gate II: Shadows of Amn\", 'PC'), (\"BioShock\",'PlayStation3')]\n",
        "#games_i_like=[(\"Planescape: Torment\",\"PC\"), (\"Fallout: New Vegas\",\"PC\"),(\"Dishonored 2\",\"PC\")]\n",
        "#games_i_like = [(\"The Legend of Zelda: Breath of the Wild\", 'Switch')]\n",
        "games_i_like = [(\"Super Mario Sunshine\",\"GameCube\"),(\"Super Mario 64\",\"Nintendo64\"),(\"Super Mario Galaxy\",\"Wii\")]\n",
        "games_i_like = [(\"DOOM\",\"PC\"),(\"Metal Gear Rising: Revengeance\",\"PC\")]\n",
        "games_i_like = [(\"Need for Speed Most Wanted\",\"PlayStation2\"),(\"Burnout Paradise: The Ultimate Box\",\"PC\"), (\"Gran Turismo 5\",\"PlayStation3\")]\n",
        "\n",
        "print('--Recomendaciones Base')\n",
        "for i, game in enumerate(get_similar_games_actual(games_i_like, 5)):\n",
        "    print(\"%d. %s on %s\" % (i+1, game[0], game[1]))\n",
        "\n",
        "print('--Recomendaciones Vader')\n",
        "for i, game in enumerate(get_similar_games_vader(games_i_like, 5)):\n",
        "    print(\"%d. %s on %s\" % (i+1, game[0], game[1]))\n",
        "\n",
        "print('--Recomendaciones TextBlob')\n",
        "for i, game in enumerate(get_similar_games_tb(games_i_like, 5)):\n",
        "    print(\"%d. %s on %s\" % (i+1, game[0], game[1]))"
      ],
      "execution_count": 0,
      "outputs": [
        {
          "output_type": "stream",
          "text": [
            "--Recomendaciones Base\n",
            "1. Test Drive V-Rally on Dreamcast\n",
            "2. Midnight Club: Los Angeles on PlayStation3\n",
            "3. Forza Motorsport 3 on Xbox360\n",
            "4. Need for Speed Underground on PlayStation2\n",
            "5. Time Gentlemen, Please! on PC\n",
            "--Recomendaciones Vader\n",
            "1. Medal of Honor Underground on PlayStation\n",
            "2. 80 Days (2015) on PC\n",
            "3. Midnight Club: Los Angeles on PlayStation3\n",
            "4. Football Manager 2010 on PC\n",
            "5. Time Gentlemen, Please! on PC\n",
            "--Recomendaciones TextBlob\n",
            "1. Midnight Club 3: DUB Edition Remix on PlayStation2\n",
            "2. Neverwinter Nights 2 on PC\n",
            "3. Medal of Honor Underground on PlayStation\n",
            "4. F1 2002 on PC\n",
            "5. Devil May Cry 3: Special Edition on PlayStation2\n"
          ],
          "name": "stdout"
        }
      ]
    },
    {
      "cell_type": "markdown",
      "metadata": {
        "id": "jxD7lwXKEVbY",
        "colab_type": "text"
      },
      "source": [
        "En caso de no encontrar el título que se busca para ponerlo como preferencia, se crea una pequeña búsqueda utilizando expresiones regulares para poder filtrar dentro de la base de datos."
      ]
    },
    {
      "cell_type": "code",
      "metadata": {
        "id": "DS3pWPz30ZSB",
        "colab_type": "code",
        "outputId": "df0ec911-325e-40e4-cb79-d9e4c682fbab",
        "colab": {
          "base_uri": "https://localhost:8080/",
          "height": 51
        }
      },
      "source": [
        "query = mc_english[mc_english_backup.Title.str.match('(Gran Turismo*)')]\n",
        "query.Title.unique()"
      ],
      "execution_count": 0,
      "outputs": [
        {
          "output_type": "execute_result",
          "data": {
            "text/plain": [
              "array(['Gran Turismo', 'Gran Turismo 3: A-Spec', 'Gran Turismo 2',\n",
              "       'Gran Turismo 4', 'Gran Turismo 5'], dtype=object)"
            ]
          },
          "metadata": {
            "tags": []
          },
          "execution_count": 47
        }
      ]
    },
    {
      "cell_type": "code",
      "metadata": {
        "id": "y56xDz6x4Z1h",
        "colab_type": "code",
        "outputId": "77e75184-2d46-41bb-cd95-03e61d5f30e6",
        "colab": {
          "base_uri": "https://localhost:8080/",
          "height": 691
        }
      },
      "source": [
        "query"
      ],
      "execution_count": 0,
      "outputs": [
        {
          "output_type": "execute_result",
          "data": {
            "text/html": [
              "<div>\n",
              "<style scoped>\n",
              "    .dataframe tbody tr th:only-of-type {\n",
              "        vertical-align: middle;\n",
              "    }\n",
              "\n",
              "    .dataframe tbody tr th {\n",
              "        vertical-align: top;\n",
              "    }\n",
              "\n",
              "    .dataframe thead th {\n",
              "        text-align: right;\n",
              "    }\n",
              "</style>\n",
              "<table border=\"1\" class=\"dataframe\">\n",
              "  <thead>\n",
              "    <tr style=\"text-align: right;\">\n",
              "      <th></th>\n",
              "      <th>Title</th>\n",
              "      <th>Platform</th>\n",
              "      <th>Userscore</th>\n",
              "      <th>Comment</th>\n",
              "      <th>Username</th>\n",
              "      <th>Language</th>\n",
              "      <th>Normalized_Userscore</th>\n",
              "      <th>Vader Score</th>\n",
              "      <th>TB Score</th>\n",
              "    </tr>\n",
              "  </thead>\n",
              "  <tbody>\n",
              "    <tr>\n",
              "      <th>19362</th>\n",
              "      <td>Gran Turismo</td>\n",
              "      <td>PlayStation</td>\n",
              "      <td>10</td>\n",
              "      <td>A game you can just keep coming back to. A cl...</td>\n",
              "      <td>RobG.</td>\n",
              "      <td>en</td>\n",
              "      <td>1</td>\n",
              "      <td>0.3573</td>\n",
              "      <td>0.303939</td>\n",
              "    </tr>\n",
              "    <tr>\n",
              "      <th>19363</th>\n",
              "      <td>Gran Turismo</td>\n",
              "      <td>PlayStation</td>\n",
              "      <td>10</td>\n",
              "      <td>Simply one of the best racing games of all tim...</td>\n",
              "      <td>NicolasThe17th</td>\n",
              "      <td>en</td>\n",
              "      <td>1</td>\n",
              "      <td>0.9160</td>\n",
              "      <td>0.394444</td>\n",
              "    </tr>\n",
              "    <tr>\n",
              "      <th>19364</th>\n",
              "      <td>Gran Turismo</td>\n",
              "      <td>PlayStation</td>\n",
              "      <td>10</td>\n",
              "      <td>The Best Game Ever? Not quite. But a very impo...</td>\n",
              "      <td>whitefox</td>\n",
              "      <td>en</td>\n",
              "      <td>1</td>\n",
              "      <td>-0.5781</td>\n",
              "      <td>0.400000</td>\n",
              "    </tr>\n",
              "    <tr>\n",
              "      <th>19365</th>\n",
              "      <td>Gran Turismo</td>\n",
              "      <td>PlayStation</td>\n",
              "      <td>9</td>\n",
              "      <td>This game is my first game on playstation, i l...</td>\n",
              "      <td>KevinHeryanto</td>\n",
              "      <td>en</td>\n",
              "      <td>1</td>\n",
              "      <td>0.9871</td>\n",
              "      <td>0.273000</td>\n",
              "    </tr>\n",
              "    <tr>\n",
              "      <th>19366</th>\n",
              "      <td>Gran Turismo</td>\n",
              "      <td>PlayStation</td>\n",
              "      <td>10</td>\n",
              "      <td>it was a good game for the ps one, the graphic...</td>\n",
              "      <td>lalorocks</td>\n",
              "      <td>en</td>\n",
              "      <td>1</td>\n",
              "      <td>0.9837</td>\n",
              "      <td>0.435000</td>\n",
              "    </tr>\n",
              "    <tr>\n",
              "      <th>...</th>\n",
              "      <td>...</td>\n",
              "      <td>...</td>\n",
              "      <td>...</td>\n",
              "      <td>...</td>\n",
              "      <td>...</td>\n",
              "      <td>...</td>\n",
              "      <td>...</td>\n",
              "      <td>...</td>\n",
              "      <td>...</td>\n",
              "    </tr>\n",
              "    <tr>\n",
              "      <th>218879</th>\n",
              "      <td>Gran Turismo 5</td>\n",
              "      <td>PlayStation3</td>\n",
              "      <td>9</td>\n",
              "      <td>One of the best racing games! It has great gra...</td>\n",
              "      <td>TheCastleFinder</td>\n",
              "      <td>en</td>\n",
              "      <td>1</td>\n",
              "      <td>-0.5859</td>\n",
              "      <td>-0.333333</td>\n",
              "    </tr>\n",
              "    <tr>\n",
              "      <th>218881</th>\n",
              "      <td>Gran Turismo 5</td>\n",
              "      <td>PlayStation3</td>\n",
              "      <td>9</td>\n",
              "      <td>This was, and is, by far, the best simulation ...</td>\n",
              "      <td>NZAnimeManga</td>\n",
              "      <td>en</td>\n",
              "      <td>1</td>\n",
              "      <td>-0.4696</td>\n",
              "      <td>-0.133488</td>\n",
              "    </tr>\n",
              "    <tr>\n",
              "      <th>218882</th>\n",
              "      <td>Gran Turismo 5</td>\n",
              "      <td>PlayStation3</td>\n",
              "      <td>9</td>\n",
              "      <td>Fantastic driving simulation game. Definitely ...</td>\n",
              "      <td>Ziggy93</td>\n",
              "      <td>en</td>\n",
              "      <td>1</td>\n",
              "      <td>0.8439</td>\n",
              "      <td>0.300000</td>\n",
              "    </tr>\n",
              "    <tr>\n",
              "      <th>218884</th>\n",
              "      <td>Gran Turismo 5</td>\n",
              "      <td>PlayStation3</td>\n",
              "      <td>1</td>\n",
              "      <td>Wonderful graphics, huge variety of cars and m...</td>\n",
              "      <td>dimitrismugen</td>\n",
              "      <td>en</td>\n",
              "      <td>-1</td>\n",
              "      <td>0.7099</td>\n",
              "      <td>0.037605</td>\n",
              "    </tr>\n",
              "    <tr>\n",
              "      <th>218885</th>\n",
              "      <td>Gran Turismo 5</td>\n",
              "      <td>PlayStation3</td>\n",
              "      <td>7</td>\n",
              "      <td>Good but underwhelming and a little bit disapp...</td>\n",
              "      <td>sircreepsalott</td>\n",
              "      <td>en</td>\n",
              "      <td>1</td>\n",
              "      <td>-0.6994</td>\n",
              "      <td>-0.085714</td>\n",
              "    </tr>\n",
              "  </tbody>\n",
              "</table>\n",
              "<p>595 rows × 9 columns</p>\n",
              "</div>"
            ],
            "text/plain": [
              "                 Title      Platform  ...  Vader Score  TB Score\n",
              "19362     Gran Turismo   PlayStation  ...       0.3573  0.303939\n",
              "19363     Gran Turismo   PlayStation  ...       0.9160  0.394444\n",
              "19364     Gran Turismo   PlayStation  ...      -0.5781  0.400000\n",
              "19365     Gran Turismo   PlayStation  ...       0.9871  0.273000\n",
              "19366     Gran Turismo   PlayStation  ...       0.9837  0.435000\n",
              "...                ...           ...  ...          ...       ...\n",
              "218879  Gran Turismo 5  PlayStation3  ...      -0.5859 -0.333333\n",
              "218881  Gran Turismo 5  PlayStation3  ...      -0.4696 -0.133488\n",
              "218882  Gran Turismo 5  PlayStation3  ...       0.8439  0.300000\n",
              "218884  Gran Turismo 5  PlayStation3  ...       0.7099  0.037605\n",
              "218885  Gran Turismo 5  PlayStation3  ...      -0.6994 -0.085714\n",
              "\n",
              "[595 rows x 9 columns]"
            ]
          },
          "metadata": {
            "tags": []
          },
          "execution_count": 48
        }
      ]
    },
    {
      "cell_type": "code",
      "metadata": {
        "id": "Q9AJASCY409m",
        "colab_type": "code",
        "colab": {}
      },
      "source": [
        ""
      ],
      "execution_count": 0,
      "outputs": []
    }
  ]
}